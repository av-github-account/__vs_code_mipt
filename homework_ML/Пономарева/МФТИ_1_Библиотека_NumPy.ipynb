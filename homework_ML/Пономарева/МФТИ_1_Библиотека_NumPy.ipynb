{
 "cells": [
  {
   "cell_type": "markdown",
   "metadata": {
    "id": "Wg1Q6yuRAv5l"
   },
   "source": [
    "# Основы линейной алгебры в Numpy"
   ]
  },
  {
   "cell_type": "code",
   "execution_count": null,
   "metadata": {
    "id": "TnHawoTdObDV"
   },
   "outputs": [],
   "source": [
    "# Импортируем нужные библиотеки\n",
    "import numpy as np"
   ]
  },
  {
   "cell_type": "markdown",
   "metadata": {
    "id": "rB-1bbdF-Ct0"
   },
   "source": [
    "## Векторы"
   ]
  },
  {
   "cell_type": "code",
   "execution_count": 15,
   "metadata": {
    "colab": {
     "base_uri": "https://localhost:8080/"
    },
    "id": "HToCcXOmOgRL",
    "outputId": "c5ce4c02-276f-4f52-af54-4e538b085a38"
   },
   "outputs": [
    {
     "name": "stdout",
     "output_type": "stream",
     "text": [
      "Размерность вектора (5,)\n"
     ]
    },
    {
     "data": {
      "text/plain": [
       "array([0, 1, 2, 3, 4])"
      ]
     },
     "execution_count": 15,
     "metadata": {},
     "output_type": "execute_result"
    }
   ],
   "source": [
    "# вектор-строка\n",
    "a = np.array([0, 1, 2, 3, 4])\n",
    "print(f'Размерность вектора {a.shape}')\n",
    "a"
   ]
  },
  {
   "cell_type": "code",
   "execution_count": 18,
   "metadata": {
    "colab": {
     "base_uri": "https://localhost:8080/"
    },
    "id": "UdAdfBK8tiEA",
    "outputId": "aeaf7d12-02c5-4f7e-f378-59d2d6878f14"
   },
   "outputs": [
    {
     "data": {
      "text/plain": [
       "5"
      ]
     },
     "execution_count": 18,
     "metadata": {},
     "output_type": "execute_result"
    }
   ],
   "source": [
    "a.size"
   ]
  },
  {
   "cell_type": "code",
   "execution_count": 19,
   "metadata": {
    "colab": {
     "base_uri": "https://localhost:8080/"
    },
    "id": "V0ojXJ0YO_GJ",
    "outputId": "8c689f9d-82aa-4b2f-edb2-81f76a0ccf3b"
   },
   "outputs": [
    {
     "name": "stdout",
     "output_type": "stream",
     "text": [
      "Размерность вектора (5, 1)\n"
     ]
    },
    {
     "data": {
      "text/plain": [
       "array([[0],\n",
       "       [1],\n",
       "       [2],\n",
       "       [3],\n",
       "       [4]])"
      ]
     },
     "execution_count": 19,
     "metadata": {},
     "output_type": "execute_result"
    }
   ],
   "source": [
    "# вектор-столбец\n",
    "a = np.array([[0], [1], [2], [3], [4]])\n",
    "print(f'Размерность вектора {a.shape}')\n",
    "a"
   ]
  },
  {
   "cell_type": "code",
   "execution_count": 20,
   "metadata": {
    "colab": {
     "base_uri": "https://localhost:8080/"
    },
    "id": "bErK1075WE_T",
    "outputId": "4e0348e0-0e20-4a9a-d1e8-b29fd9980ecc"
   },
   "outputs": [
    {
     "data": {
      "text/plain": [
       "5"
      ]
     },
     "execution_count": 20,
     "metadata": {},
     "output_type": "execute_result"
    }
   ],
   "source": [
    "# Количество объектов\n",
    "a.size"
   ]
  },
  {
   "cell_type": "code",
   "execution_count": 21,
   "metadata": {
    "colab": {
     "base_uri": "https://localhost:8080/"
    },
    "id": "X9IxdPhYOjjg",
    "outputId": "c9f09853-ccd2-4f89-fecd-a37c0d546112"
   },
   "outputs": [
    {
     "data": {
      "text/plain": [
       "array([0, 2, 4, 6, 8])"
      ]
     },
     "execution_count": 21,
     "metadata": {},
     "output_type": "execute_result"
    }
   ],
   "source": [
    "# аналог range\n",
    "np.arange(0, 10, 2)"
   ]
  },
  {
   "cell_type": "code",
   "execution_count": 22,
   "metadata": {
    "colab": {
     "base_uri": "https://localhost:8080/"
    },
    "id": "k4nW7LbBtqyU",
    "outputId": "c4340dc6-6692-4859-8078-7598c61255ff"
   },
   "outputs": [
    {
     "data": {
      "text/plain": [
       "array([10,  8,  6])"
      ]
     },
     "execution_count": 22,
     "metadata": {},
     "output_type": "execute_result"
    }
   ],
   "source": [
    "np.arange(10, 5, -2)"
   ]
  },
  {
   "cell_type": "code",
   "execution_count": 23,
   "metadata": {
    "colab": {
     "base_uri": "https://localhost:8080/"
    },
    "id": "_65ZDKmgOlCH",
    "outputId": "a2f8b690-63ad-4dd9-a037-8db5d53d5c3d"
   },
   "outputs": [
    {
     "data": {
      "text/plain": [
       "array([ 0.   ,  0.625,  1.25 ,  1.875,  2.5  ,  3.125,  3.75 ,  4.375,\n",
       "        5.   ,  5.625,  6.25 ,  6.875,  7.5  ,  8.125,  8.75 ,  9.375,\n",
       "       10.   ])"
      ]
     },
     "execution_count": 23,
     "metadata": {},
     "output_type": "execute_result"
    }
   ],
   "source": [
    "# возвращает числа равноудаленные в заданном интервале\n",
    "np.linspace(0, 10, num=17)"
   ]
  },
  {
   "cell_type": "code",
   "execution_count": null,
   "metadata": {
    "colab": {
     "base_uri": "https://localhost:8080/"
    },
    "id": "__t21HFY5QnZ",
    "outputId": "044f83ab-cdb7-467b-f774-024e1e2a5ccf"
   },
   "outputs": [],
   "source": [
    "np.linspace(0, 1, num=5)"
   ]
  },
  {
   "cell_type": "code",
   "execution_count": null,
   "metadata": {
    "colab": {
     "base_uri": "https://localhost:8080/"
    },
    "id": "sujHxMJh_u8n",
    "outputId": "adfe2459-b565-48be-94ca-38b8c8d911c2"
   },
   "outputs": [],
   "source": [
    "z = np.zeros(10, dtype='int')\n",
    "# z = np.zeros(10)\n",
    "z"
   ]
  },
  {
   "cell_type": "code",
   "execution_count": null,
   "metadata": {
    "colab": {
     "base_uri": "https://localhost:8080/"
    },
    "id": "jmuoKXHauKRp",
    "outputId": "e2d08818-69d6-4abb-9746-00b1e01fbb65"
   },
   "outputs": [],
   "source": [
    "z.dtype"
   ]
  },
  {
   "cell_type": "code",
   "execution_count": null,
   "metadata": {
    "colab": {
     "base_uri": "https://localhost:8080/"
    },
    "id": "bOr_4sj-_wRi",
    "outputId": "b8e1c918-f724-44d0-8be3-15237d75b39f"
   },
   "outputs": [],
   "source": [
    "o = np.ones(5, dtype='int')\n",
    "o"
   ]
  },
  {
   "cell_type": "code",
   "execution_count": null,
   "metadata": {
    "colab": {
     "base_uri": "https://localhost:8080/"
    },
    "id": "bjgYMWFWC0W1",
    "outputId": "3d940f69-7b09-490b-b8db-da47aa45cb4f"
   },
   "outputs": [],
   "source": [
    "o.dtype = 'int'\n",
    "print(o)\n",
    "o.dtype"
   ]
  },
  {
   "cell_type": "code",
   "execution_count": null,
   "metadata": {
    "colab": {
     "base_uri": "https://localhost:8080/",
     "height": 179
    },
    "id": "96g8ZvKy_znn",
    "outputId": "07c57261-4f28-41b2-df76-c2f232504ce5"
   },
   "outputs": [],
   "source": [
    "oo = np.zeros_like(o)\n",
    "oo.append(10)"
   ]
  },
  {
   "cell_type": "code",
   "execution_count": null,
   "metadata": {
    "colab": {
     "base_uri": "https://localhost:8080/"
    },
    "id": "K8cOuigPAbsy",
    "outputId": "61e9c195-0284-45b1-8f9a-fab824cde5b2"
   },
   "outputs": [],
   "source": [
    "o[1:3] = 10\n",
    "o"
   ]
  },
  {
   "cell_type": "code",
   "execution_count": null,
   "metadata": {
    "colab": {
     "base_uri": "https://localhost:8080/"
    },
    "id": "Db1Xh54cvj04",
    "outputId": "36ced20b-c2b0-4386-d011-f851db5ae5b7"
   },
   "outputs": [],
   "source": [
    "np.where(o == 10)"
   ]
  },
  {
   "cell_type": "code",
   "execution_count": null,
   "metadata": {
    "colab": {
     "base_uri": "https://localhost:8080/"
    },
    "id": "mFImPILmvoMY",
    "outputId": "8c67514f-0e21-4e80-f21f-d5b05f28f601"
   },
   "outputs": [],
   "source": [
    "o"
   ]
  },
  {
   "cell_type": "code",
   "execution_count": null,
   "metadata": {
    "colab": {
     "base_uri": "https://localhost:8080/"
    },
    "id": "udN9FJKcAZhe",
    "outputId": "4f516a3d-23e8-4d69-862d-0f0008aa5b3d"
   },
   "outputs": [],
   "source": [
    "np.where(o != 1, 2, o)"
   ]
  },
  {
   "cell_type": "markdown",
   "metadata": {
    "id": "OUPWqgTS-BJH"
   },
   "source": [
    "## Матрицы"
   ]
  },
  {
   "cell_type": "code",
   "execution_count": null,
   "metadata": {
    "colab": {
     "base_uri": "https://localhost:8080/"
    },
    "id": "y2Ryzq-D94eh",
    "outputId": "239bee53-60ae-4195-b9c8-e7ea0f556a57"
   },
   "outputs": [],
   "source": [
    "a = np.array([[0, 1], [1, 1], [2, 1], [3, 1], [4, 1]])\n",
    "a.shape"
   ]
  },
  {
   "cell_type": "code",
   "execution_count": null,
   "metadata": {
    "colab": {
     "base_uri": "https://localhost:8080/"
    },
    "id": "pYWibHMC-HGA",
    "outputId": "3f43fbf3-6b16-40aa-ae8f-6bbf7f29998b"
   },
   "outputs": [],
   "source": [
    "# Количество объектов\n",
    "a.size"
   ]
  },
  {
   "cell_type": "code",
   "execution_count": null,
   "metadata": {
    "colab": {
     "base_uri": "https://localhost:8080/"
    },
    "id": "SZfRBCn7UH2X",
    "outputId": "fa27b6b2-6546-4ee3-dd0c-eb37811e58f5"
   },
   "outputs": [],
   "source": [
    "A = np.array([[1, 2],\n",
    "              [6, 3]])\n",
    "A / 2"
   ]
  },
  {
   "cell_type": "code",
   "execution_count": null,
   "metadata": {
    "colab": {
     "base_uri": "https://localhost:8080/"
    },
    "id": "8jUPLOcY5yPS",
    "outputId": "4947add0-29d7-4628-e7bf-7d76fbe46af5"
   },
   "outputs": [],
   "source": [
    "A.shape"
   ]
  },
  {
   "cell_type": "code",
   "execution_count": null,
   "metadata": {
    "colab": {
     "base_uri": "https://localhost:8080/"
    },
    "id": "l-l2RAnB5uvU",
    "outputId": "d8c23b0f-4033-4660-ac0b-af8f9ad49bb0"
   },
   "outputs": [],
   "source": [
    "A.reshape(1, -1).shape"
   ]
  },
  {
   "cell_type": "code",
   "execution_count": null,
   "metadata": {
    "colab": {
     "base_uri": "https://localhost:8080/"
    },
    "id": "FVt2N1M559TS",
    "outputId": "792ebfc4-9b34-46f2-c2a6-01e189ab2b5e"
   },
   "outputs": [],
   "source": [
    "A"
   ]
  },
  {
   "cell_type": "code",
   "execution_count": null,
   "metadata": {
    "id": "0_cr1HIt5_0T"
   },
   "outputs": [],
   "source": [
    "A.resize(4)"
   ]
  },
  {
   "cell_type": "code",
   "execution_count": null,
   "metadata": {
    "colab": {
     "base_uri": "https://localhost:8080/"
    },
    "id": "_hAS-ZDD6Bhm",
    "outputId": "c606090a-622f-4b49-cf41-5a69ae127a35"
   },
   "outputs": [],
   "source": [
    "A"
   ]
  },
  {
   "cell_type": "code",
   "execution_count": null,
   "metadata": {
    "colab": {
     "base_uri": "https://localhost:8080/"
    },
    "id": "tazrF_kO6GP9",
    "outputId": "2415ef8c-c4b7-411b-9fd2-3bcf7f24b44c"
   },
   "outputs": [],
   "source": [
    "A = np.array([[1, 2],\n",
    "              [6, 3]])\n",
    "A + 2"
   ]
  },
  {
   "cell_type": "code",
   "execution_count": null,
   "metadata": {
    "colab": {
     "base_uri": "https://localhost:8080/"
    },
    "id": "v2SL86-xUJOc",
    "outputId": "84c8362c-8a67-4933-9f26-99941bb41a21"
   },
   "outputs": [],
   "source": [
    "A * 2"
   ]
  },
  {
   "cell_type": "markdown",
   "metadata": {
    "id": "s9rZbubB-MKh"
   },
   "source": [
    "### Математика с несколькими матрицами"
   ]
  },
  {
   "cell_type": "code",
   "execution_count": null,
   "metadata": {
    "colab": {
     "base_uri": "https://localhost:8080/"
    },
    "id": "wKsL1Q9mO5-4",
    "outputId": "c40e67f1-5c64-42a3-c5c6-de2b5fbb1bff"
   },
   "outputs": [],
   "source": [
    "A = np.array([[1, 2],\n",
    "              [6, 3]])\n",
    "\n",
    "B = np.array([[0, 4],\n",
    "              [0, 2]])\n",
    "\n",
    "# сложение матриц\n",
    "A + B"
   ]
  },
  {
   "cell_type": "code",
   "execution_count": null,
   "metadata": {
    "colab": {
     "base_uri": "https://localhost:8080/"
    },
    "id": "fXLn6XIyPfpc",
    "outputId": "4c94cbf1-ff41-489b-f817-38d60c28fbbd"
   },
   "outputs": [],
   "source": [
    "# поэлементное переменожение матриц\n",
    "A * B"
   ]
  },
  {
   "cell_type": "code",
   "execution_count": null,
   "metadata": {
    "colab": {
     "base_uri": "https://localhost:8080/"
    },
    "id": "ZSsywp-wPhQQ",
    "outputId": "5a2f34bf-8701-498d-e7ca-160973e71c80"
   },
   "outputs": [],
   "source": [
    "# матричное переменожение (строка на столбец)\n",
    "A @ B\n",
    "A.dot(B)\n",
    "np.dot(A, B)"
   ]
  },
  {
   "cell_type": "code",
   "execution_count": null,
   "metadata": {
    "colab": {
     "base_uri": "https://localhost:8080/"
    },
    "id": "OQXcf0a1PjCX",
    "outputId": "5cedb915-c143-491b-aab6-b3ec96fea224"
   },
   "outputs": [],
   "source": [
    "# строка на столбец\n",
    "print(f'Первая строка {A[0]}')\n",
    "print(f'Первый столбец {B[:, 0]}')\n",
    "\n",
    "A[0] * B[:, 0]"
   ]
  },
  {
   "cell_type": "code",
   "execution_count": null,
   "metadata": {
    "colab": {
     "base_uri": "https://localhost:8080/"
    },
    "id": "UevS1qIaUb1U",
    "outputId": "a44b22ae-5d1f-45b7-8553-50467a8041fb"
   },
   "outputs": [],
   "source": [
    "# строка на столбец\n",
    "print(f'Первая строка {A[0]}')\n",
    "print(f'Второй столбец {B[:, 1]}')\n",
    "A[0] * B[:, 1]"
   ]
  },
  {
   "cell_type": "code",
   "execution_count": null,
   "metadata": {
    "colab": {
     "base_uri": "https://localhost:8080/"
    },
    "id": "463xDkXbWxo-",
    "outputId": "01723fed-e556-4aed-9672-2c1592bb6489"
   },
   "outputs": [],
   "source": [
    "# для перемножения матриц нужно, чтобы кол-во столбцов совпадало с кол-вом строк\n",
    "A.shape, B.shape"
   ]
  },
  {
   "cell_type": "code",
   "execution_count": null,
   "metadata": {
    "colab": {
     "base_uri": "https://localhost:8080/",
     "height": 213
    },
    "id": "4ddXz-gMW6vu",
    "outputId": "099a18a4-b264-4494-f62f-c1b979cdd805"
   },
   "outputs": [],
   "source": [
    "A = np.array([[1, 2],\n",
    "              [6, 3]])\n",
    "\n",
    "C = np.array([[0, 1],\n",
    "              [0, 3],\n",
    "              [9, 3]])\n",
    "A @ C"
   ]
  },
  {
   "cell_type": "code",
   "execution_count": null,
   "metadata": {
    "colab": {
     "base_uri": "https://localhost:8080/"
    },
    "id": "XoYvLmoawnK7",
    "outputId": "0986018f-a271-4fd4-b563-af70b93e9309"
   },
   "outputs": [],
   "source": [
    "A.shape, C.shape"
   ]
  },
  {
   "cell_type": "code",
   "execution_count": null,
   "metadata": {
    "colab": {
     "base_uri": "https://localhost:8080/"
    },
    "id": "ckXtX42dZHnf",
    "outputId": "cb52f4a1-373a-4957-e6ba-28e6ca0c1977"
   },
   "outputs": [],
   "source": [
    "# конкатенация массивов\n",
    "np.concatenate([A, C[:2]], axis=1)"
   ]
  },
  {
   "cell_type": "code",
   "execution_count": null,
   "metadata": {
    "colab": {
     "base_uri": "https://localhost:8080/"
    },
    "id": "6Y-Aoy8myMQ4",
    "outputId": "c4a6fa17-1ac7-4b1a-b0ef-a89a96ebae78"
   },
   "outputs": [],
   "source": [
    "np.linalg.det(A)"
   ]
  },
  {
   "cell_type": "markdown",
   "metadata": {
    "id": "BsfM2USV-S5U"
   },
   "source": [
    "### Получение статистик"
   ]
  },
  {
   "cell_type": "code",
   "execution_count": null,
   "metadata": {
    "colab": {
     "base_uri": "https://localhost:8080/"
    },
    "id": "VRbp_0CVLd4_",
    "outputId": "1f5f67d2-0c7a-4cb9-b8fa-fb2c9326b7b7"
   },
   "outputs": [],
   "source": [
    "a = np.array([1, 2, 3, 4, 5])\n",
    "a"
   ]
  },
  {
   "cell_type": "markdown",
   "metadata": {
    "id": "N3XY8TAQO_bx"
   },
   "source": [
    "**Среднее арифметическое**"
   ]
  },
  {
   "cell_type": "code",
   "execution_count": null,
   "metadata": {
    "colab": {
     "base_uri": "https://localhost:8080/"
    },
    "id": "2Gcr9obnI_X8",
    "outputId": "82d80973-a835-4fce-895a-33aa66186a90"
   },
   "outputs": [],
   "source": [
    "mean = a.sum() / len(a)\n",
    "mean"
   ]
  },
  {
   "cell_type": "markdown",
   "metadata": {
    "id": "QCjPUsrzO_by"
   },
   "source": [
    "**Дисперсия и стандартное отклонение**\n",
    "\n",
    "*Дисперсия* - это показатель вариации, который представляет собой средний квадрат отклонений от математического ожидания (среднее арифметическое). Она выражает разброс чисел относительно среднего значения.\n",
    "\n",
    "*Стандартное отклонение* (среднеквадратичное отклонение) - это величина, характеризующая разброс данных относительно среднего значения."
   ]
  },
  {
   "cell_type": "code",
   "execution_count": null,
   "metadata": {
    "colab": {
     "base_uri": "https://localhost:8080/"
    },
    "id": "DlGb24QpO_by",
    "outputId": "82cc84ce-669f-4716-f644-88b1842e12b2"
   },
   "outputs": [],
   "source": [
    "a - mean"
   ]
  },
  {
   "cell_type": "code",
   "execution_count": null,
   "metadata": {
    "colab": {
     "base_uri": "https://localhost:8080/"
    },
    "id": "ht-lBBhUJK1Y",
    "outputId": "ca4b5e41-accd-4e9c-8cdf-038a62a0b365"
   },
   "outputs": [],
   "source": [
    "variance = np.mean((a - mean) ** 2)\n",
    "std = np.sqrt(variance)\n",
    "variance, std"
   ]
  },
  {
   "cell_type": "markdown",
   "metadata": {
    "id": "hauH6w-mO_bz"
   },
   "source": [
    "Подсчет с помощью numpy"
   ]
  },
  {
   "cell_type": "code",
   "execution_count": null,
   "metadata": {
    "colab": {
     "base_uri": "https://localhost:8080/"
    },
    "id": "HcQeswTaKwYm",
    "outputId": "2350d893-ef82-4135-ada8-aed4efed81a9"
   },
   "outputs": [],
   "source": [
    "mean_np = np.mean(a)\n",
    "mean_np"
   ]
  },
  {
   "cell_type": "code",
   "execution_count": null,
   "metadata": {
    "colab": {
     "base_uri": "https://localhost:8080/"
    },
    "id": "PNhvbJOUK6-J",
    "outputId": "44206ec4-1e14-4688-fe47-2849f7a2d3e8"
   },
   "outputs": [],
   "source": [
    "std_np = np.std(a)\n",
    "std_np"
   ]
  },
  {
   "cell_type": "code",
   "execution_count": null,
   "metadata": {
    "colab": {
     "base_uri": "https://localhost:8080/"
    },
    "id": "pQlFgax7O_b0",
    "outputId": "d2bc31a1-9196-4f07-bcc8-0494fde59693"
   },
   "outputs": [],
   "source": [
    "np.var(a)"
   ]
  },
  {
   "cell_type": "markdown",
   "metadata": {
    "id": "oUk1_unpO_b1"
   },
   "source": [
    "**Медиана**\n",
    "\n",
    "*Медиана* - значение, которая делит его на две равные части или же проще говоря, это середина отсортированной выборки."
   ]
  },
  {
   "cell_type": "code",
   "execution_count": null,
   "metadata": {
    "colab": {
     "base_uri": "https://localhost:8080/"
    },
    "id": "ut4MIy8bLjj-",
    "outputId": "89e38dbd-b2c7-4c94-ae1e-6bbc60e04b63"
   },
   "outputs": [],
   "source": [
    "a = [3, 4, 5, 6, 1, 2, 2, 6]\n",
    "a = np.sort(a)\n",
    "a"
   ]
  },
  {
   "cell_type": "code",
   "execution_count": null,
   "metadata": {
    "colab": {
     "base_uri": "https://localhost:8080/"
    },
    "id": "-YvNlxlrPZmP",
    "outputId": "98d107ca-79af-46fb-f5b0-cc2aa02870ee"
   },
   "outputs": [],
   "source": [
    "len(a)"
   ]
  },
  {
   "cell_type": "code",
   "execution_count": null,
   "metadata": {
    "colab": {
     "base_uri": "https://localhost:8080/"
    },
    "id": "YxXMmUXfO_cA",
    "outputId": "fa1ae03f-eae7-4d1b-a981-12657b0db22f"
   },
   "outputs": [],
   "source": [
    "np.median(a)"
   ]
  },
  {
   "cell_type": "markdown",
   "metadata": {
    "id": "YEv8d_LHO_cB"
   },
   "source": [
    "**Квантили**\n",
    "\n",
    "*Квартили* - это значения, которые делят выборку на 4 равные (по количеству объектов) части.\n",
    "Откуда следует, что вторая квартиль - это медиана.\n",
    "\n",
    "\n",
    "КваНтиль 50% = КваРтиль 2 = медиана"
   ]
  },
  {
   "cell_type": "code",
   "execution_count": null,
   "metadata": {
    "colab": {
     "base_uri": "https://localhost:8080/"
    },
    "id": "t6TnbIf9LU3n",
    "outputId": "a8bcd3f6-db2c-4a70-9a21-a7073944e197"
   },
   "outputs": [],
   "source": [
    "np.quantile(a, 0.5)"
   ]
  },
  {
   "cell_type": "code",
   "execution_count": null,
   "metadata": {
    "colab": {
     "base_uri": "https://localhost:8080/"
    },
    "id": "1y3V4wojLonj",
    "outputId": "fe4e3308-266c-4172-983c-17e321f90f02"
   },
   "outputs": [],
   "source": [
    "np.median(a)"
   ]
  },
  {
   "cell_type": "markdown",
   "metadata": {
    "id": "8eV-wl2zzmfx"
   },
   "source": [
    "КваНтиль 25% = КваРтиль 1"
   ]
  },
  {
   "cell_type": "code",
   "execution_count": null,
   "metadata": {
    "colab": {
     "base_uri": "https://localhost:8080/"
    },
    "id": "LvGl4SUazuQt",
    "outputId": "ff124c30-6e71-4899-cf10-f7d46f85ac10"
   },
   "outputs": [],
   "source": [
    "a"
   ]
  },
  {
   "cell_type": "code",
   "execution_count": null,
   "metadata": {
    "colab": {
     "base_uri": "https://localhost:8080/"
    },
    "id": "d7JxeJqkPRMo",
    "outputId": "a072c8f2-0b84-44ac-c142-60164da29774"
   },
   "outputs": [],
   "source": [
    "np.quantile(a, q=0.25)"
   ]
  },
  {
   "cell_type": "markdown",
   "metadata": {
    "id": "nujrhn4qz3al"
   },
   "source": [
    "КваНтиль 75% = КваРтиль 3"
   ]
  },
  {
   "cell_type": "code",
   "execution_count": null,
   "metadata": {
    "colab": {
     "base_uri": "https://localhost:8080/"
    },
    "id": "rAic5--OP2jm",
    "outputId": "011c9a25-6317-463f-8684-d414ec90c0e9"
   },
   "outputs": [],
   "source": [
    "np.quantile(a=a, q=0.75)"
   ]
  },
  {
   "cell_type": "markdown",
   "metadata": {
    "id": "LjRF9RnEO_cE"
   },
   "source": [
    "**Мода**\n",
    "\n",
    "Мода - это объект с максимальной частотой или проще говоря, самый популярный (частовстречаемый) объект в выборке."
   ]
  },
  {
   "cell_type": "code",
   "execution_count": null,
   "metadata": {
    "colab": {
     "base_uri": "https://localhost:8080/"
    },
    "id": "H4Q8BNi9O_cE",
    "outputId": "21dc21a7-a8f8-448d-8821-e119e769ddc2"
   },
   "outputs": [],
   "source": [
    "a"
   ]
  },
  {
   "cell_type": "code",
   "execution_count": null,
   "metadata": {
    "colab": {
     "base_uri": "https://localhost:8080/",
     "height": 167
    },
    "id": "VDF4dJA9O_cF",
    "outputId": "f892538a-7d68-4f7d-cb78-c6fee0b28ed1"
   },
   "outputs": [],
   "source": [
    "import pandas as pd\n",
    "\n",
    "pd.Series(a).mode()"
   ]
  },
  {
   "cell_type": "markdown",
   "metadata": {
    "id": "6OEn0-dzPO2A"
   },
   "source": [
    "#### Статистики на примере"
   ]
  },
  {
   "cell_type": "code",
   "execution_count": null,
   "metadata": {
    "colab": {
     "base_uri": "https://localhost:8080/",
     "height": 468
    },
    "id": "CTwREpYNWYus",
    "outputId": "043f346c-5650-41d2-a17c-f6761d9cb2ad"
   },
   "outputs": [],
   "source": [
    "np.random.seed(1)\n",
    "salary1 = np.random.randint(10000, 80000, size=400)\n",
    "salary2 = np.random.randint(1e6, 1e7, size=5)\n",
    "salary = np.r_[(salary1, salary2)]\n",
    "\n",
    "pd.Series(salary).hist();"
   ]
  },
  {
   "cell_type": "code",
   "execution_count": null,
   "metadata": {
    "colab": {
     "base_uri": "https://localhost:8080/"
    },
    "id": "lXbkWRH8W7QB",
    "outputId": "69eb3672-1ee2-44ca-9b5a-f802766805b4"
   },
   "outputs": [],
   "source": [
    "salary.min(), salary.max()"
   ]
  },
  {
   "cell_type": "code",
   "execution_count": null,
   "metadata": {
    "colab": {
     "base_uri": "https://localhost:8080/"
    },
    "id": "ClqiuzMiWy2i",
    "outputId": "4fa38d86-5456-4453-ce24-bcc585e39242"
   },
   "outputs": [],
   "source": [
    "salary.mean()"
   ]
  },
  {
   "cell_type": "code",
   "execution_count": null,
   "metadata": {
    "colab": {
     "base_uri": "https://localhost:8080/"
    },
    "id": "jkMR-vQgXOiN",
    "outputId": "88fffec9-e0eb-4257-8829-7150c6610323"
   },
   "outputs": [],
   "source": [
    "np.median(salary)"
   ]
  },
  {
   "cell_type": "code",
   "execution_count": null,
   "metadata": {
    "colab": {
     "base_uri": "https://localhost:8080/"
    },
    "id": "obCCgAmB1wnT",
    "outputId": "5179a179-6b56-4275-a442-56f91973d045"
   },
   "outputs": [],
   "source": [
    "np.where(salary > np.median(salary))[0].shape"
   ]
  },
  {
   "cell_type": "code",
   "execution_count": null,
   "metadata": {
    "colab": {
     "base_uri": "https://localhost:8080/"
    },
    "id": "Sq0uU1Ai2bgi",
    "outputId": "281e760f-b3a8-4eee-c8e1-07102e37d868"
   },
   "outputs": [],
   "source": [
    "np.std(salary)"
   ]
  },
  {
   "cell_type": "code",
   "execution_count": null,
   "metadata": {
    "colab": {
     "base_uri": "https://localhost:8080/"
    },
    "id": "q_jBz8bKWXID",
    "outputId": "3b8b3946-c74c-46d4-b31a-b79f4d27662a"
   },
   "outputs": [],
   "source": [
    "np.quantile(salary, q=0.5)"
   ]
  },
  {
   "cell_type": "code",
   "execution_count": null,
   "metadata": {
    "colab": {
     "base_uri": "https://localhost:8080/"
    },
    "id": "RKPBQ68aZt4q",
    "outputId": "821e4255-2016-42c2-c7f6-74e7c7c58515"
   },
   "outputs": [],
   "source": [
    "np.quantile(salary, q=0.25)"
   ]
  },
  {
   "cell_type": "code",
   "execution_count": null,
   "metadata": {
    "colab": {
     "base_uri": "https://localhost:8080/"
    },
    "id": "ucbuIt-CZuvU",
    "outputId": "5b11ed9a-b4ad-44ae-ddcd-b058650fcf3d"
   },
   "outputs": [],
   "source": [
    "np.quantile(salary, q=0.75)"
   ]
  },
  {
   "cell_type": "code",
   "execution_count": null,
   "metadata": {
    "colab": {
     "base_uri": "https://localhost:8080/"
    },
    "id": "HYOh5TvyaFDd",
    "outputId": "79f9b2d5-110b-4dbc-afc5-8c030ccc17ca"
   },
   "outputs": [],
   "source": [
    "np.quantile(salary, q=0.01)"
   ]
  },
  {
   "cell_type": "code",
   "execution_count": null,
   "metadata": {
    "colab": {
     "base_uri": "https://localhost:8080/",
     "height": 229
    },
    "id": "JPNPPaLdZ-DN",
    "outputId": "676ef179-a601-4b86-9fcd-698d4db93cfa"
   },
   "outputs": [],
   "source": [
    "pd.Series(salary).mode()"
   ]
  },
  {
   "cell_type": "code",
   "execution_count": null,
   "metadata": {
    "colab": {
     "base_uri": "https://localhost:8080/",
     "height": 478
    },
    "id": "khWZKqO0aIKW",
    "outputId": "74bb7b5f-fc73-4f9f-a0e0-62ef41977ddf"
   },
   "outputs": [],
   "source": [
    "pd.Series(salary).value_counts()"
   ]
  },
  {
   "cell_type": "markdown",
   "metadata": {
    "id": "oqOdOGEkZwgE"
   },
   "source": [
    "#### С матрицами"
   ]
  },
  {
   "cell_type": "code",
   "execution_count": null,
   "metadata": {
    "colab": {
     "base_uri": "https://localhost:8080/"
    },
    "id": "wcpYWYMEUisX",
    "outputId": "e822c0c0-dcd4-439b-f8bd-eb9f077daef1"
   },
   "outputs": [],
   "source": [
    "np.sum(A) / A.size"
   ]
  },
  {
   "cell_type": "code",
   "execution_count": null,
   "metadata": {
    "colab": {
     "base_uri": "https://localhost:8080/"
    },
    "id": "8q0UnqHw2uYX",
    "outputId": "9d8f122f-1f46-4db1-d6cf-41699647de6f"
   },
   "outputs": [],
   "source": [
    "A[:, 0].sum() / A[:, 0].size  # axis=0"
   ]
  },
  {
   "cell_type": "code",
   "execution_count": null,
   "metadata": {
    "colab": {
     "base_uri": "https://localhost:8080/"
    },
    "id": "GwreFz9H21J7",
    "outputId": "662798a1-826d-490f-bbf1-baca470687b1"
   },
   "outputs": [],
   "source": [
    "A[:, 1].sum() / A[:, 1].size  # axis=0"
   ]
  },
  {
   "cell_type": "code",
   "execution_count": null,
   "metadata": {
    "colab": {
     "base_uri": "https://localhost:8080/"
    },
    "id": "9zg_PDf725ZG",
    "outputId": "b92feb47-2f9a-425a-dffd-a1d0b9d8dd59"
   },
   "outputs": [],
   "source": [
    "A[0].sum() / A[0].size, A[1].sum() / A[1].size  # axis=1"
   ]
  },
  {
   "cell_type": "code",
   "execution_count": null,
   "metadata": {
    "colab": {
     "base_uri": "https://localhost:8080/"
    },
    "id": "Zqh-A0QFRuhY",
    "outputId": "60e6689a-4068-4b91-99ba-0d27114501f2"
   },
   "outputs": [],
   "source": [
    "print(f'Среднее по всему массиву {np.mean(A)}')\n",
    "print(f'Среднее по столбцам {np.mean(A, axis=0)}')\n",
    "print(f'Среднее по строкам {np.mean(A, axis=1)}')"
   ]
  },
  {
   "cell_type": "markdown",
   "metadata": {
    "id": "HTrOBePa-97V"
   },
   "source": [
    "### Модуль random в numpy"
   ]
  },
  {
   "cell_type": "code",
   "execution_count": null,
   "metadata": {
    "colab": {
     "base_uri": "https://localhost:8080/"
    },
    "id": "6F5WOgel_NwT",
    "outputId": "8451ea34-8c73-44e7-98f1-9b169a21619b"
   },
   "outputs": [],
   "source": [
    "np.random.seed(1)  # фиксация случайности\n",
    "np.random.randint(0, 5, size=3)"
   ]
  },
  {
   "cell_type": "code",
   "execution_count": 24,
   "metadata": {
    "colab": {
     "base_uri": "https://localhost:8080/"
    },
    "id": "XndrFFxS_enP",
    "outputId": "c33054e0-96ec-419a-d25a-928f058b9f7d"
   },
   "outputs": [
    {
     "data": {
      "text/plain": [
       "array([[ 0.79795396,  0.36929797, -0.70694245, -0.29535402, -0.10362975],\n",
       "       [-0.15295427, -0.43533704,  0.13624039, -0.98899325, -1.54270799]])"
      ]
     },
     "execution_count": 24,
     "metadata": {},
     "output_type": "execute_result"
    }
   ],
   "source": [
    "np.random.randn(2, 5)"
   ]
  },
  {
   "cell_type": "code",
   "execution_count": null,
   "metadata": {
    "colab": {
     "base_uri": "https://localhost:8080/"
    },
    "id": "VE3mCPto3Xc2",
    "outputId": "70bf8a7a-5785-481c-f069-d8cc60835dc9"
   },
   "outputs": [],
   "source": [
    "np.random.choice(np.array([2, 1, 3, 4]), size=3, replace=False)"
   ]
  },
  {
   "cell_type": "code",
   "execution_count": null,
   "metadata": {
    "colab": {
     "base_uri": "https://localhost:8080/"
    },
    "id": "5unCAz2G_j_O",
    "outputId": "388657df-2541-4970-8ff8-ecd348fd76d5"
   },
   "outputs": [],
   "source": [
    "np.random.choice(\n",
    "    ['white', 'black', 'red', 'blue'],\n",
    "    size=2,\n",
    "    replace=False)"
   ]
  },
  {
   "cell_type": "markdown",
   "metadata": {
    "id": "WHi3693b-yj4"
   },
   "source": [
    "### 🧠 Упражнение: поиск среднего значение в строках\n",
    "\n",
    "Создайте двумерный массив numpy размером 5x5, заполненный случайными целыми числами от 1 до 10. Найдите среднее значение каждой строки и выведите результат.\n"
   ]
  },
  {
   "cell_type": "code",
   "execution_count": null,
   "metadata": {
    "id": "xBoP3xelAQ28"
   },
   "outputs": [],
   "source": []
  },
  {
   "cell_type": "markdown",
   "metadata": {
    "id": "m4TqkYoMARE-"
   },
   "source": [
    "#### 🧠 Упражнение: поиск среднего значение в строках (ответ)\n",
    "\n",
    "Создайте двумерный массив numpy размером 5x5, заполненный случайными целыми числами от 1 до 10. Найдите среднее значение каждой строки и выведите результат.\n"
   ]
  },
  {
   "cell_type": "code",
   "execution_count": 26,
   "metadata": {
    "colab": {
     "base_uri": "https://localhost:8080/"
    },
    "id": "ROWrWApc-30z",
    "outputId": "f5efc374-43b2-4a31-e271-b84353cc6cb9"
   },
   "outputs": [
    {
     "data": {
      "text/plain": [
       "array([4.6, 5. , 4.4, 5.4, 5. ])"
      ]
     },
     "execution_count": 26,
     "metadata": {},
     "output_type": "execute_result"
    }
   ],
   "source": [
    "np.random.seed(1)\n",
    "\n",
    "n = 5\n",
    "array = np.random.randint(1, 10, size=n*n)\n",
    "array = array.reshape((n, n))\n",
    "array.mean(axis=1)"
   ]
  },
  {
   "cell_type": "code",
   "execution_count": null,
   "metadata": {
    "colab": {
     "base_uri": "https://localhost:8080/"
    },
    "id": "syVeBEOP6GxH",
    "outputId": "cfa5e60e-bc33-4da8-ad98-fb48a10f18d2"
   },
   "outputs": [],
   "source": [
    "array"
   ]
  },
  {
   "cell_type": "code",
   "execution_count": null,
   "metadata": {
    "colab": {
     "base_uri": "https://localhost:8080/"
    },
    "id": "aAXDJYZ1AJQI",
    "outputId": "e0c841ae-9f0e-4e46-e74c-aeccdf8ce3fa"
   },
   "outputs": [],
   "source": [
    "array[0].mean(), array[1].mean()"
   ]
  },
  {
   "cell_type": "markdown",
   "metadata": {
    "id": "FH1kAcipAobE"
   },
   "source": [
    "### 🧠 Упражнение: замена столбца на среднее\n",
    "\n",
    "\n",
    "Создайте двумерный массив numpy размером 6x6, заполненный случайными числами. Найдите среднее значение каждого столбца и замените все элементы столбца на это среднее значение."
   ]
  },
  {
   "cell_type": "code",
   "execution_count": null,
   "metadata": {
    "id": "SQ1tCyBYAwLX"
   },
   "outputs": [],
   "source": []
  },
  {
   "cell_type": "markdown",
   "metadata": {
    "id": "1zgR2E7tAumY"
   },
   "source": [
    "#### 🧠 Упражнение: замена столбца на среднее (ответ)\n"
   ]
  },
  {
   "cell_type": "code",
   "execution_count": null,
   "metadata": {
    "id": "M8zex9nVAwkZ"
   },
   "outputs": [],
   "source": [
    "np.random.seed(1)\n",
    "\n",
    "n = 6\n",
    "array = np.random.randint(1, 10, size=n*n)\n",
    "array = array.reshape((n, n))\n",
    "mean_values = array.mean(axis=0)"
   ]
  },
  {
   "cell_type": "code",
   "execution_count": null,
   "metadata": {
    "colab": {
     "base_uri": "https://localhost:8080/"
    },
    "id": "IIQS8AC16Pfx",
    "outputId": "630d3d6a-068e-4fae-8a95-73b04559ce66"
   },
   "outputs": [],
   "source": [
    "array"
   ]
  },
  {
   "cell_type": "code",
   "execution_count": null,
   "metadata": {
    "colab": {
     "base_uri": "https://localhost:8080/"
    },
    "id": "HmHaGHX9A7SG",
    "outputId": "de43eeed-31d9-4f50-9627-1ff4a17d276b"
   },
   "outputs": [],
   "source": [
    "array[:, 0].mean(), array[:, 1].mean()"
   ]
  },
  {
   "cell_type": "code",
   "execution_count": null,
   "metadata": {
    "colab": {
     "base_uri": "https://localhost:8080/"
    },
    "id": "SD85XcZnChEz",
    "outputId": "e4c85ea9-c30b-4ecf-b5b6-bda39e585613"
   },
   "outputs": [],
   "source": [
    "array.dtype = 'float'\n",
    "array.dtype"
   ]
  },
  {
   "cell_type": "code",
   "execution_count": null,
   "metadata": {
    "colab": {
     "base_uri": "https://localhost:8080/"
    },
    "id": "Ly-tiVpmBy0q",
    "outputId": "ef4ade83-5905-4382-b1c3-a7aebe0ae4c8"
   },
   "outputs": [],
   "source": [
    "for i in range(array.shape[1]):\n",
    "    array[:, i] = mean_values[i]\n",
    "\n",
    "array"
   ]
  },
  {
   "cell_type": "markdown",
   "metadata": {
    "id": "AXxBfI2q-WXA"
   },
   "source": [
    "## Векторы в пространстве"
   ]
  },
  {
   "cell_type": "code",
   "execution_count": null,
   "metadata": {
    "colab": {
     "base_uri": "https://localhost:8080/",
     "height": 542
    },
    "id": "bwMoxPoSSPO_",
    "outputId": "9576e8b2-e42a-4653-81df-38c45b105dbd"
   },
   "outputs": [],
   "source": [
    "import matplotlib.pyplot as plt\n",
    "\n",
    "vec0 = np.array([0, 1])\n",
    "vec1 = np.array([5, 0])\n",
    "\n",
    "\n",
    "plt.figure(figsize=(8, 6))\n",
    "\n",
    "for i, vector in enumerate([vec0, vec1]):\n",
    "    plt.plot([0, vector[0]], [0, vector[1]], label=f'{i} vector')\n",
    "\n",
    "plt.legend();"
   ]
  },
  {
   "cell_type": "code",
   "execution_count": null,
   "metadata": {
    "colab": {
     "base_uri": "https://localhost:8080/"
    },
    "id": "eDtOK5HnSUhi",
    "outputId": "a7a8d3e9-d1de-411c-d6ed-01aa60e6d0af"
   },
   "outputs": [],
   "source": [
    "# найти гипотенузу прямоугольника\n",
    "# a^2 + b^2 = c^2\n",
    "\n",
    "((5 - 0) ** 2 + (1 - 0) ** 2) ** 0.5"
   ]
  },
  {
   "cell_type": "code",
   "execution_count": null,
   "metadata": {
    "colab": {
     "base_uri": "https://localhost:8080/"
    },
    "id": "_2wGiysF70Rv",
    "outputId": "2f68ec94-17ae-40a6-cb88-7424efdc32fc"
   },
   "outputs": [],
   "source": [
    "vec0 - vec1"
   ]
  },
  {
   "cell_type": "code",
   "execution_count": null,
   "metadata": {
    "colab": {
     "base_uri": "https://localhost:8080/"
    },
    "id": "eFBZ6ILYTRob",
    "outputId": "50268352-d738-4777-eb39-430a75ff4add"
   },
   "outputs": [],
   "source": [
    "np.sqrt(((vec0 - vec1) ** 2).sum())"
   ]
  },
  {
   "cell_type": "code",
   "execution_count": null,
   "metadata": {
    "colab": {
     "base_uri": "https://localhost:8080/"
    },
    "id": "kT00mL4tS1Ia",
    "outputId": "5f7b8595-b2ef-43db-9260-df278939af5d"
   },
   "outputs": [],
   "source": [
    "np.linalg.norm(vec0 - vec1, ord=1)"
   ]
  },
  {
   "cell_type": "markdown",
   "metadata": {
    "id": "NarVR-8bRoPt"
   },
   "source": [
    "## Применение numpy массивов"
   ]
  },
  {
   "cell_type": "code",
   "execution_count": null,
   "metadata": {
    "colab": {
     "base_uri": "https://localhost:8080/"
    },
    "id": "iqJLz_NPQQYY",
    "outputId": "f23ad293-24c0-4f88-8fa2-010658cf2b4d"
   },
   "outputs": [],
   "source": [
    "import matplotlib.pyplot as plt\n",
    "import requests\n",
    "import cv2\n",
    "\n",
    "\n",
    "response = requests.get('https://web-zoopark.ru/wp-content/uploads/2018/07/7-9.jpg')\n",
    "response"
   ]
  },
  {
   "cell_type": "code",
   "execution_count": null,
   "metadata": {
    "colab": {
     "base_uri": "https://localhost:8080/"
    },
    "id": "DyGCSOf68K6A",
    "outputId": "73ea835f-b360-49ad-9950-04db2335f068"
   },
   "outputs": [],
   "source": [
    "img_bytes = response.content\n",
    "img_bytes"
   ]
  },
  {
   "cell_type": "code",
   "execution_count": null,
   "metadata": {
    "colab": {
     "base_uri": "https://localhost:8080/"
    },
    "id": "q9dW9Sb08Uoe",
    "outputId": "d86b4c0d-6d11-4d0e-fad2-d517b180669e"
   },
   "outputs": [],
   "source": [
    "np.frombuffer(img_bytes, np.uint8)"
   ]
  },
  {
   "cell_type": "code",
   "execution_count": null,
   "metadata": {
    "colab": {
     "base_uri": "https://localhost:8080/",
     "height": 364
    },
    "id": "Tk96TqxmVETP",
    "outputId": "7796aabe-3325-46a8-de25-fc738b0a5aa5"
   },
   "outputs": [],
   "source": [
    "img = cv2.imdecode(np.frombuffer(img_bytes, np.uint8), -1)\n",
    "plt.imshow(img);"
   ]
  },
  {
   "cell_type": "code",
   "execution_count": null,
   "metadata": {
    "colab": {
     "base_uri": "https://localhost:8080/"
    },
    "id": "rTs4_2F07toy",
    "outputId": "a918d7c4-3f8f-472e-8a2f-0e35d5599ae7"
   },
   "outputs": [],
   "source": [
    "img"
   ]
  },
  {
   "cell_type": "code",
   "execution_count": null,
   "metadata": {
    "colab": {
     "base_uri": "https://localhost:8080/"
    },
    "id": "YGhiVkyG8c9Q",
    "outputId": "0a6afa83-3943-455c-9fdc-8894d0bb95df"
   },
   "outputs": [],
   "source": [
    "img.shape"
   ]
  },
  {
   "cell_type": "markdown",
   "metadata": {
    "id": "Esmnil3cRIFb"
   },
   "source": [
    "BGR -> RGB"
   ]
  },
  {
   "cell_type": "code",
   "execution_count": null,
   "metadata": {
    "colab": {
     "base_uri": "https://localhost:8080/",
     "height": 364
    },
    "id": "usk9KovRRJuX",
    "outputId": "a97d68b3-edcf-4eaf-b8ea-b5a9183d855e"
   },
   "outputs": [],
   "source": [
    "img = cv2.cvtColor(img, cv2.COLOR_BGR2RGB)\n",
    "plt.imshow(img);"
   ]
  },
  {
   "cell_type": "code",
   "execution_count": null,
   "metadata": {
    "colab": {
     "base_uri": "https://localhost:8080/"
    },
    "id": "DpqkR_OTRkOR",
    "outputId": "642a6354-77ba-4345-d259-d2f02b25bcb9"
   },
   "outputs": [],
   "source": [
    "img"
   ]
  },
  {
   "cell_type": "code",
   "execution_count": null,
   "metadata": {
    "colab": {
     "base_uri": "https://localhost:8080/"
    },
    "id": "Y_YogbFWRVDW",
    "outputId": "bd465072-9b52-4775-d458-95bbf0d85b7f"
   },
   "outputs": [],
   "source": [
    "img.shape"
   ]
  },
  {
   "cell_type": "code",
   "execution_count": null,
   "metadata": {
    "colab": {
     "base_uri": "https://localhost:8080/"
    },
    "id": "jMEv5-CWRZBO",
    "outputId": "20074950-961d-491e-ca10-a44db0a46f0a"
   },
   "outputs": [],
   "source": [
    "print(f'Высота {img.shape[0]}')\n",
    "print(f'Ширина {img.shape[1]}')\n",
    "print(f'Количество каналов {img.shape[2]}')"
   ]
  },
  {
   "cell_type": "code",
   "execution_count": null,
   "metadata": {
    "colab": {
     "base_uri": "https://localhost:8080/",
     "height": 472
    },
    "id": "prRQkirvTfnm",
    "outputId": "0a48afc5-7d51-48d5-eb39-5dc7768f50f7"
   },
   "outputs": [],
   "source": [
    "x_min, x_max = 400, 900\n",
    "y_min, y_max = 200, 600\n",
    "\n",
    "crop_img = img[y_min:y_max, x_min:x_max]\n",
    "print('Срез фотки', crop_img.shape)\n",
    "plt.imshow(crop_img);"
   ]
  },
  {
   "cell_type": "code",
   "execution_count": null,
   "metadata": {
    "colab": {
     "base_uri": "https://localhost:8080/"
    },
    "id": "IxpnOO3SFoNz",
    "outputId": "ab5d6d8a-adc2-42a5-c29f-510f36a17f28"
   },
   "outputs": [],
   "source": [
    "cv2.imwrite('img.jpeg', crop_img)"
   ]
  },
  {
   "cell_type": "code",
   "execution_count": null,
   "metadata": {
    "colab": {
     "base_uri": "https://localhost:8080/",
     "height": 455
    },
    "id": "WE2CoJEKFx13",
    "outputId": "b87385bd-4e58-4c3b-d4b6-3d69e6daca5e"
   },
   "outputs": [],
   "source": [
    "crop_img = cv2.imread('img.jpeg')\n",
    "plt.imshow(crop_img);"
   ]
  },
  {
   "cell_type": "code",
   "execution_count": null,
   "metadata": {
    "colab": {
     "base_uri": "https://localhost:8080/"
    },
    "id": "leONGh0d8b-_",
    "outputId": "c736b752-eb35-450a-9886-423a0bf5060d"
   },
   "outputs": [],
   "source": [
    "crop_img.shape"
   ]
  },
  {
   "cell_type": "code",
   "execution_count": null,
   "metadata": {
    "colab": {
     "base_uri": "https://localhost:8080/",
     "height": 455
    },
    "id": "K3PEXigYGuZi",
    "outputId": "456b864c-d736-4d9c-8dff-8e1c48202e7f"
   },
   "outputs": [],
   "source": [
    "crop_img = cv2.resize(crop_img, (1000, 800))\n",
    "plt.imshow(crop_img);"
   ]
  },
  {
   "cell_type": "code",
   "execution_count": null,
   "metadata": {
    "colab": {
     "base_uri": "https://localhost:8080/"
    },
    "id": "swr6nRbR8gtS",
    "outputId": "889630de-b003-49d0-d3a5-e23671621299"
   },
   "outputs": [],
   "source": [
    "crop_img.shape"
   ]
  },
  {
   "cell_type": "markdown",
   "metadata": {
    "id": "j02GU1TtFDih"
   },
   "source": [
    "### 🧠 Упражнение: объединение изображений\n",
    "\n",
    "Загрузите два изображения с помощью библиотеки OpenCV и преобразуйте их в массивы numpy. Объедините эти два массива в один, используя операции numpy, и сохраните полученный массив как новое изображение.\n",
    "\n",
    "Если у изображений разный размер, отмасштабируйте изображения до одного размера (через `cv2.resize`)"
   ]
  },
  {
   "cell_type": "code",
   "execution_count": null,
   "metadata": {
    "colab": {
     "base_uri": "https://localhost:8080/"
    },
    "id": "rTpjdpQPFP04",
    "outputId": "b29f9924-f67d-4185-d813-c3b73190a7fc"
   },
   "outputs": [],
   "source": [
    "!wget 'https://laplaya-rus.ru/wp-content/uploads/4/3/8/4382527fd4dbee20bc240764919f8c12.jpeg' -O img1.jpeg\n",
    "!wget 'https://laplaya-rus.ru/wp-content/uploads/5/b/8/5b8316fc1354f9a8be2a3506942850c1.jpeg' -O img2.jpeg"
   ]
  },
  {
   "cell_type": "code",
   "execution_count": null,
   "metadata": {
    "id": "X34POp-_HvQx"
   },
   "outputs": [],
   "source": []
  },
  {
   "cell_type": "markdown",
   "metadata": {
    "id": "PPsF4pUOHCpD"
   },
   "source": [
    "#### 🧠 Упражнение: объединение изображений (ответ)\n"
   ]
  },
  {
   "cell_type": "code",
   "execution_count": null,
   "metadata": {
    "colab": {
     "base_uri": "https://localhost:8080/"
    },
    "id": "HSxJ7L8UFeUH",
    "outputId": "ae24cad3-68b5-4dfb-9961-ee86afeed972"
   },
   "outputs": [],
   "source": [
    "img1 = cv2.imread('img1.jpeg')\n",
    "img1 = cv2.cvtColor(img1, cv2.COLOR_BGR2RGB)\n",
    "img1.shape"
   ]
  },
  {
   "cell_type": "code",
   "execution_count": null,
   "metadata": {
    "colab": {
     "base_uri": "https://localhost:8080/"
    },
    "id": "KgupvFR9GGqQ",
    "outputId": "f090478a-3a60-4ead-c9be-f2f57216d44e"
   },
   "outputs": [],
   "source": [
    "img2 = cv2.imread('img2.jpeg')\n",
    "img2 = cv2.cvtColor(img2, cv2.COLOR_BGR2RGB)\n",
    "img2.shape"
   ]
  },
  {
   "cell_type": "code",
   "execution_count": null,
   "metadata": {
    "id": "ZuTxuJwBHS-y"
   },
   "outputs": [],
   "source": [
    "img2 = cv2.resize(img2, (img1.shape[1], img1.shape[0]))"
   ]
  },
  {
   "cell_type": "code",
   "execution_count": null,
   "metadata": {
    "colab": {
     "base_uri": "https://localhost:8080/",
     "height": 435
    },
    "id": "rKzpKewhF-ri",
    "outputId": "433d7bbf-ef53-4736-96bc-d3cf353b444d"
   },
   "outputs": [],
   "source": [
    "img = np.concatenate([\n",
    "    img1,\n",
    "    img2\n",
    "])\n",
    "\n",
    "plt.imshow(img);"
   ]
  },
  {
   "cell_type": "markdown",
   "metadata": {
    "id": "7o5ELQ8P-dz4"
   },
   "source": [
    "# Система рекомендаций"
   ]
  },
  {
   "cell_type": "markdown",
   "metadata": {
    "id": "madQ9tcgCtcl"
   },
   "source": [
    "## Подготовка данных"
   ]
  },
  {
   "cell_type": "code",
   "execution_count": null,
   "metadata": {
    "id": "mmUL3JOSo9yQ"
   },
   "outputs": [],
   "source": [
    "# Источник и описание полей датасета: http://archive.ics.uci.edu/ml/datasets/online+retail#"
   ]
  },
  {
   "cell_type": "code",
   "execution_count": null,
   "metadata": {
    "id": "EeiRL_R1q8gC"
   },
   "outputs": [],
   "source": [
    "# Импортируем нужные библиотеки\n",
    "import pandas as pd"
   ]
  },
  {
   "cell_type": "code",
   "execution_count": null,
   "metadata": {
    "colab": {
     "base_uri": "https://localhost:8080/",
     "height": 261
    },
    "id": "_ZFa59dYrG4p",
    "outputId": "e1342dd3-ccb1-4e4f-c806-9bbd33974904"
   },
   "outputs": [],
   "source": [
    "%%time\n",
    "# Загружаем и читаем датасет\n",
    "df = pd.read_excel('http://archive.ics.uci.edu/ml/machine-learning-databases/00352/Online%20Retail.xlsx')\n",
    "# df = pd.read_excel('OnlineRetail.xlsx')\n",
    "df.head()"
   ]
  },
  {
   "cell_type": "code",
   "execution_count": null,
   "metadata": {
    "colab": {
     "base_uri": "https://localhost:8080/"
    },
    "id": "M6u_1eK6rf7G",
    "outputId": "dd2c7405-04f3-438a-dd5e-fe3fb76dd057"
   },
   "outputs": [],
   "source": [
    "# Смотрим размеры датасета\n",
    "df.shape"
   ]
  },
  {
   "cell_type": "code",
   "execution_count": null,
   "metadata": {
    "colab": {
     "base_uri": "https://localhost:8080/",
     "height": 617
    },
    "id": "dH8Z-lhynJyN",
    "outputId": "a4b7b3b1-c879-4baf-8814-08c9a849ad77"
   },
   "outputs": [],
   "source": [
    "df[df['Quantity'] <= 0]"
   ]
  },
  {
   "cell_type": "code",
   "execution_count": null,
   "metadata": {
    "id": "rrChCnigrnwt"
   },
   "outputs": [],
   "source": [
    "# Чистим датасет: удаляем записи с нулевыми покупками\n",
    "df = df[df['Quantity'] > 0]"
   ]
  },
  {
   "cell_type": "code",
   "execution_count": null,
   "metadata": {
    "colab": {
     "base_uri": "https://localhost:8080/",
     "height": 355
    },
    "id": "w5IGAm7UnP1H",
    "outputId": "28716f84-e6ee-438c-b79d-f5aa75029b44"
   },
   "outputs": [],
   "source": [
    "df.isna().sum()"
   ]
  },
  {
   "cell_type": "code",
   "execution_count": null,
   "metadata": {
    "id": "TVLvPI5Xrsod"
   },
   "outputs": [],
   "source": [
    "# Чистим датасет: удаляем записи с пропусками в customer_id\n",
    "df = df.dropna(subset=['CustomerID'])"
   ]
  },
  {
   "cell_type": "code",
   "execution_count": null,
   "metadata": {
    "colab": {
     "base_uri": "https://localhost:8080/",
     "height": 355
    },
    "id": "zrsgv5zfzU4E",
    "outputId": "7b0a2691-a454-43d2-e901-5ca685d3320f"
   },
   "outputs": [],
   "source": [
    "df.isna().sum()"
   ]
  },
  {
   "cell_type": "code",
   "execution_count": null,
   "metadata": {
    "colab": {
     "base_uri": "https://localhost:8080/"
    },
    "id": "Jdgt86ZH2HoB",
    "outputId": "6a06deb8-dca2-4a30-e03d-27bf516225f1"
   },
   "outputs": [],
   "source": [
    "df['CustomerID'] = df['CustomerID'].astype('int')"
   ]
  },
  {
   "cell_type": "code",
   "execution_count": null,
   "metadata": {
    "colab": {
     "base_uri": "https://localhost:8080/",
     "height": 304
    },
    "id": "AkHG4thUr3LZ",
    "outputId": "eb779aff-4970-47f6-e31f-41d0f53b12aa"
   },
   "outputs": [],
   "source": [
    "# Агрегируем данные в сводную таблицу \"покупатель - товар\"\n",
    "customer_item_matrix = df.pivot_table(\n",
    "    index='CustomerID',\n",
    "    columns='StockCode',\n",
    "    values='Quantity',\n",
    "    aggfunc='sum'\n",
    ")\n",
    "\n",
    "customer_item_matrix.head()"
   ]
  },
  {
   "cell_type": "code",
   "execution_count": null,
   "metadata": {
    "colab": {
     "base_uri": "https://localhost:8080/"
    },
    "id": "x8jdfE9nsIXE",
    "outputId": "6f0f5390-3cd7-4514-f027-df0bb98f4534"
   },
   "outputs": [],
   "source": [
    "# Смотрим на размеры таблицы\n",
    "customer_item_matrix.shape"
   ]
  },
  {
   "cell_type": "code",
   "execution_count": null,
   "metadata": {
    "colab": {
     "base_uri": "https://localhost:8080/"
    },
    "id": "5JnOyL-Bse-i",
    "outputId": "e40df731-14bb-41e8-dd56-6b2b082d4ea7"
   },
   "outputs": [],
   "source": [
    "# Сравниваем кол-во строк с кол-вом уникальных покупателей в исходном датафрейме\n",
    "df['CustomerID'].nunique()"
   ]
  },
  {
   "cell_type": "code",
   "execution_count": null,
   "metadata": {
    "colab": {
     "base_uri": "https://localhost:8080/"
    },
    "id": "J1z_3eaesbnK",
    "outputId": "7ce16096-6517-42d0-8dc2-398736c840d9"
   },
   "outputs": [],
   "source": [
    "# Сравниваем кол-во столбцов с кол-вом уникальных товаров в исходном датафрейме\n",
    "df['StockCode'].nunique()"
   ]
  },
  {
   "cell_type": "code",
   "execution_count": null,
   "metadata": {
    "colab": {
     "base_uri": "https://localhost:8080/",
     "height": 304
    },
    "id": "ih0jgmlfsg7B",
    "outputId": "89ef6d09-c69c-45fb-dac4-fdd25ed0cee5"
   },
   "outputs": [],
   "source": [
    "# Заменяем кол-во покупок на событие: 1 - факт покупки, 0 - отсутствие покупки\n",
    "customer_item_matrix = customer_item_matrix.map(lambda x: 1 if x > 0 else 0)\n",
    "customer_item_matrix.head()"
   ]
  },
  {
   "cell_type": "markdown",
   "metadata": {
    "id": "JAaPG-WXsviN"
   },
   "source": [
    "## Коллаборативная фильтрация (Collaborative Filtering)\n",
    "\n",
    "<img src='https://repository-images.githubusercontent.com/107717770/e1dfeb9b-ac36-4a49-8150-d6136705186b'>\n",
    "\n",
    "Ссылка на изображение: https://repository-images.githubusercontent.com/107717770/e1dfeb9b-ac36-4a49-8150-d6136705186b"
   ]
  },
  {
   "cell_type": "code",
   "execution_count": null,
   "metadata": {
    "id": "OhmNvrXoGGB4"
   },
   "outputs": [],
   "source": [
    "# Импортируем библиотеку для создания разреженной матрицы\n",
    "from scipy.sparse import csr_matrix"
   ]
  },
  {
   "cell_type": "code",
   "execution_count": null,
   "metadata": {
    "id": "l6RR5r6MuDD2"
   },
   "outputs": [],
   "source": [
    "n = np.array([[1, 0.5, 0],\n",
    "              [3, 0, 5],\n",
    "              [0, 5, 0]])"
   ]
  },
  {
   "cell_type": "code",
   "execution_count": null,
   "metadata": {
    "colab": {
     "base_uri": "https://localhost:8080/"
    },
    "id": "w9pDTYfztnYE",
    "outputId": "c9c32d4e-e0d3-4486-daa5-a144cc70e702"
   },
   "outputs": [],
   "source": [
    "csr_n = csr_matrix(n)  # sparse matrix\n",
    "csr_n"
   ]
  },
  {
   "cell_type": "code",
   "execution_count": null,
   "metadata": {
    "colab": {
     "base_uri": "https://localhost:8080/"
    },
    "id": "jIjszKaC-aTc",
    "outputId": "a00f75c2-cbde-42e5-e30c-ab47516eacb5"
   },
   "outputs": [],
   "source": [
    "print(csr_n)"
   ]
  },
  {
   "cell_type": "code",
   "execution_count": null,
   "metadata": {
    "colab": {
     "base_uri": "https://localhost:8080/"
    },
    "id": "UVMkpCv4ufRO",
    "outputId": "f40e6cb6-d935-4660-da69-9fd7d214ad3b"
   },
   "outputs": [],
   "source": [
    "csr_n.data"
   ]
  },
  {
   "cell_type": "code",
   "execution_count": null,
   "metadata": {
    "colab": {
     "base_uri": "https://localhost:8080/"
    },
    "id": "AWJZcuXvuii5",
    "outputId": "b24769a2-04a2-4411-ebb7-0a5e43c004b1"
   },
   "outputs": [],
   "source": [
    "csr_n.indices"
   ]
  },
  {
   "cell_type": "code",
   "execution_count": null,
   "metadata": {
    "colab": {
     "base_uri": "https://localhost:8080/"
    },
    "id": "_jJmzd_YvdUk",
    "outputId": "2110105f-108e-4219-fea7-dbb59a162737"
   },
   "outputs": [],
   "source": [
    "csr_n.toarray()"
   ]
  },
  {
   "cell_type": "markdown",
   "metadata": {
    "id": "-rLX6kwQpqsq"
   },
   "source": [
    "<table>\n",
    "<tr>\n",
    "<td>\n",
    "<img src='https://drive.google.com/uc?export=view&id=1TrLSown1yxEswyJd_PeBl3yjnzioKTuQ' width=400>\n",
    "</td>\n",
    "<td>\n",
    "<img src='https://drive.google.com/uc?export=view&id=1FbARc1vHbEURgDlwY_qkaq2YWRLFk8db' width=400>\n",
    "</td>\n",
    "</tr>\n",
    "</table>"
   ]
  },
  {
   "cell_type": "code",
   "execution_count": null,
   "metadata": {
    "id": "NpSxTCvrrd_N"
   },
   "outputs": [],
   "source": [
    "# Задаем функцию расчета косинуса между векторами-строками покупателей\n",
    "def cos_sim(array):\n",
    "    # преобразуем\n",
    "    csr_array = csr_matrix(array)\n",
    "    numerator = np.dot(csr_array, csr_array.T).toarray()\n",
    "    denomenator = np.linalg.norm(array, axis=1, keepdims=True) * np.linalg.norm(array.T, axis=0, keepdims=True)\n",
    "    return numerator / denomenator"
   ]
  },
  {
   "cell_type": "code",
   "execution_count": null,
   "metadata": {
    "id": "_QWSA8CKAEMe"
   },
   "outputs": [],
   "source": [
    "# A"
   ]
  },
  {
   "cell_type": "code",
   "execution_count": null,
   "metadata": {
    "id": "1S8_fERLADoU"
   },
   "outputs": [],
   "source": [
    "# np.linalg.norm(A, axis=1, keepdims=True)"
   ]
  },
  {
   "cell_type": "code",
   "execution_count": null,
   "metadata": {
    "colab": {
     "base_uri": "https://localhost:8080/",
     "height": 542
    },
    "id": "NfY12OFO0xu0",
    "outputId": "48233d09-0ae0-4766-fe81-773374fc7a7f"
   },
   "outputs": [],
   "source": [
    "import matplotlib.pyplot as plt\n",
    "\n",
    "plt.figure(figsize=(8, 6))\n",
    "\n",
    "for i, vector in enumerate(n):\n",
    "    plt.plot([0, vector[0]], [0, vector[1]], label=f'{i} vector')\n",
    "\n",
    "plt.legend();"
   ]
  },
  {
   "cell_type": "code",
   "execution_count": null,
   "metadata": {
    "colab": {
     "base_uri": "https://localhost:8080/"
    },
    "id": "XbntuATq0sIf",
    "outputId": "72ea12ab-c187-4d05-8951-570f93bbc3b4"
   },
   "outputs": [],
   "source": [
    "n[0], n[1], n[2]"
   ]
  },
  {
   "cell_type": "code",
   "execution_count": null,
   "metadata": {
    "colab": {
     "base_uri": "https://localhost:8080/"
    },
    "id": "AfoLtFOH0QvZ",
    "outputId": "17967092-980f-4633-84ee-33bfd2857357"
   },
   "outputs": [],
   "source": [
    "# Вычисляем косинусную меру сходства между векторами-строками игрушечного массива\n",
    "cos_sim(n)"
   ]
  },
  {
   "cell_type": "code",
   "execution_count": null,
   "metadata": {
    "colab": {
     "base_uri": "https://localhost:8080/"
    },
    "id": "QggUJJ-1s7Nq",
    "outputId": "10abcb26-691e-4132-fe57-1caa7bf77e21"
   },
   "outputs": [],
   "source": [
    "# Преобразуем исходную матрицу \"покупатель - товар\" в массив numpy\n",
    "m = customer_item_matrix.values\n",
    "m"
   ]
  },
  {
   "cell_type": "code",
   "execution_count": null,
   "metadata": {
    "colab": {
     "base_uri": "https://localhost:8080/"
    },
    "id": "nxc81SXktENA",
    "outputId": "610b83a7-6315-408a-8625-fbb21dac068a"
   },
   "outputs": [],
   "source": [
    "# Вычисляем косинусную меру сходства между векторами-строками покупателей\n",
    "user_user_sim_matrix = cos_sim(m)\n",
    "user_user_sim_matrix"
   ]
  },
  {
   "cell_type": "code",
   "execution_count": null,
   "metadata": {
    "colab": {
     "base_uri": "https://localhost:8080/",
     "height": 287
    },
    "id": "cSDeA-LBcgwF",
    "outputId": "c7a3b90a-0014-4875-b98c-62c4ffc75324"
   },
   "outputs": [],
   "source": [
    "# Добавляем название столбцов и индексов в матрицу мер близости между векторами-строками покупателей\n",
    "user_user_sim_matrix = pd.DataFrame(user_user_sim_matrix)\n",
    "\n",
    "user_user_sim_matrix.columns = customer_item_matrix.index\n",
    "\n",
    "user_user_sim_matrix['CustomerID'] = customer_item_matrix.index\n",
    "user_user_sim_matrix = user_user_sim_matrix.set_index('CustomerID')\n",
    "\n",
    "user_user_sim_matrix.head()"
   ]
  },
  {
   "cell_type": "markdown",
   "metadata": {
    "id": "1b24eLtUD5lV"
   },
   "source": [
    "## Рекомендации на основе коллаборативной фильтрации"
   ]
  },
  {
   "cell_type": "code",
   "execution_count": null,
   "metadata": {
    "colab": {
     "base_uri": "https://localhost:8080/",
     "height": 510
    },
    "id": "w9ZHsnQIugcv",
    "outputId": "bd9b24eb-7737-4d43-8abd-65e4ecfaaf7e"
   },
   "outputs": [],
   "source": [
    "# На примере эталонного покупателя находим тех покупателей, которые близки к нему по косинусной мере\n",
    "user_user_sim_matrix.loc[12350].sort_values(ascending=False)"
   ]
  },
  {
   "cell_type": "code",
   "execution_count": null,
   "metadata": {
    "id": "TADNHrcAAc7Q"
   },
   "outputs": [],
   "source": [
    "# customer_item_matrix"
   ]
  },
  {
   "cell_type": "code",
   "execution_count": null,
   "metadata": {
    "colab": {
     "base_uri": "https://localhost:8080/"
    },
    "id": "Q2kQ_Q2HvhvB",
    "outputId": "0ce98cf6-1251-451d-971f-bf5af4ec4e50"
   },
   "outputs": [],
   "source": [
    "# Определяем перечень уникальных покупок нашего эталонного покупателя\n",
    "A = customer_item_matrix.loc[12350]\n",
    "items_bought_by_A = A[A > 0].index.tolist()\n",
    "items_bought_by_A"
   ]
  },
  {
   "cell_type": "code",
   "execution_count": null,
   "metadata": {
    "colab": {
     "base_uri": "https://localhost:8080/"
    },
    "id": "F0gkrH5L1HOT",
    "outputId": "d64c060c-82a2-4526-c2ed-2ca2a61f63f9"
   },
   "outputs": [],
   "source": [
    "# Определяем перечень уникальных покупок покупателя наиболее близкого к нашему\n",
    "B = customer_item_matrix.loc[17935]\n",
    "items_bought_by_B = B[B > 0].index.tolist()\n",
    "items_bought_by_B"
   ]
  },
  {
   "cell_type": "code",
   "execution_count": null,
   "metadata": {
    "colab": {
     "base_uri": "https://localhost:8080/"
    },
    "id": "02SUGgSK0lIV",
    "outputId": "e3a8535e-161d-4f24-9aa8-2a234abc295f"
   },
   "outputs": [],
   "source": [
    "# Отбираем те покупки, которые есть у близкого к нашему покупателю, но нет у нашего покупателя\n",
    "items_to_recommend_to_A = set(items_bought_by_B) - set(items_bought_by_A)\n",
    "items_to_recommend_to_A"
   ]
  },
  {
   "cell_type": "code",
   "execution_count": null,
   "metadata": {
    "colab": {
     "base_uri": "https://localhost:8080/",
     "height": 885
    },
    "id": "0JXpo-23wBGW",
    "outputId": "5c663b75-3f61-4d3b-d493-aad5717e81d9"
   },
   "outputs": [],
   "source": [
    "# Выводим перечень товаров, рекомендованных для нашего эталонного покупателя\n",
    "df[df['StockCode'].isin(items_to_recommend_to_A)][['StockCode', 'Description']].drop_duplicates().set_index('StockCode')"
   ]
  },
  {
   "cell_type": "markdown",
   "metadata": {
    "id": "9ppJRZcla6Wq"
   },
   "source": [
    "### 🧠 Упражнение: item_based коллаборативная фильтрация\n",
    "\n",
    "1. Используйте датасет с  текущего урока.\n",
    "2. Создайте матрицу item-customer (по строкам - товары, по столбцам - покупатели)\n",
    "3.Проведите оценку мер близости товаров, получив матрицу item_item_sim_matrix со значениями косинусов между векторами товаров.\n",
    "4. Отберите ТОП-10 похожих товаров по StockCode. 23166\n",
    "5. Выведите список ТОП-10 похожих товаров с названиями (Description) на экран."
   ]
  },
  {
   "cell_type": "code",
   "execution_count": null,
   "metadata": {
    "id": "PMf8tDiid1BI"
   },
   "outputs": [],
   "source": []
  },
  {
   "cell_type": "markdown",
   "metadata": {
    "id": "b6Grs9_Gd6KL"
   },
   "source": [
    "#### 🧠 Упражнение: item_based коллаборативная фильтрация (ответ)\n"
   ]
  },
  {
   "cell_type": "code",
   "execution_count": null,
   "metadata": {
    "id": "i6C504Fid4Yp"
   },
   "outputs": [],
   "source": [
    "# Импортируем нужные библиотеки\n",
    "import pandas as pd\n",
    "import numpy as np\n",
    "from scipy.sparse import csr_matrix"
   ]
  },
  {
   "cell_type": "code",
   "execution_count": null,
   "metadata": {
    "colab": {
     "base_uri": "https://localhost:8080/",
     "height": 241
    },
    "id": "cE63Qthod4Yq",
    "outputId": "724c6941-514e-4181-fb22-ab5da7439751"
   },
   "outputs": [],
   "source": [
    "%%time\n",
    "# Загружаем и читаем датасет\n",
    "df = pd.read_excel('http://archive.ics.uci.edu/ml/machine-learning-databases/00352/Online%20Retail.xlsx')\n",
    "# df = pd.read_excel('OnlineRetail.xlsx')\n",
    "df.head()"
   ]
  },
  {
   "cell_type": "code",
   "execution_count": null,
   "metadata": {
    "id": "gwATcOjLd4Yt"
   },
   "outputs": [],
   "source": [
    "# Чистим датасет: удаляем записи с нулевыми покупками\n",
    "df = df[df['Quantity'] > 0]\n",
    "\n",
    "# Чистим датасет: удаляем записи с пропусками в customer_id\n",
    "df = df.dropna(subset=['CustomerID'])\n",
    "df['CustomerID'] = df['CustomerID'].astype('int')"
   ]
  },
  {
   "cell_type": "code",
   "execution_count": null,
   "metadata": {
    "colab": {
     "base_uri": "https://localhost:8080/",
     "height": 267
    },
    "id": "2TDZDk8COvoe",
    "outputId": "78a3798d-470a-418c-a4f7-03183ca71483"
   },
   "outputs": [],
   "source": [
    "# Агрегируем данные в сводную таблицу \"товар - покупатель\"\n",
    "item_customer_matrix = df.pivot_table(\n",
    "    index='StockCode',\n",
    "    columns='CustomerID',\n",
    "    values='Quantity',\n",
    "    aggfunc='sum'\n",
    ")\n",
    "\n",
    "item_customer_matrix.head()"
   ]
  },
  {
   "cell_type": "code",
   "execution_count": null,
   "metadata": {
    "colab": {
     "base_uri": "https://localhost:8080/",
     "height": 267
    },
    "id": "NLMz3789d4Yz",
    "outputId": "7493a630-7f08-42b3-dcd4-5ec09ac29535"
   },
   "outputs": [],
   "source": [
    "# Заменяем кол-во покупок на событие: 1 - факт покупки, 0 - отсутствие покупки\n",
    "item_customer_matrix = item_customer_matrix.applymap(lambda x: 1 if x > 0 else 0)\n",
    "item_customer_matrix.head()"
   ]
  },
  {
   "cell_type": "code",
   "execution_count": null,
   "metadata": {
    "id": "fAxcCWftO4Te"
   },
   "outputs": [],
   "source": [
    "# Задаем функцию расчета косинуса между векторами-строками покупателей\n",
    "def cos_sim(array):\n",
    "    # преобразуем\n",
    "    csr_array = csr_matrix(array)\n",
    "    numerator = np.dot(csr_array, csr_array.T).toarray()\n",
    "    denomenator = np.linalg.norm(array, axis=1, keepdims=True) * np.linalg.norm(array.T, axis=0, keepdims=True)\n",
    "    return numerator / denomenator"
   ]
  },
  {
   "cell_type": "code",
   "execution_count": null,
   "metadata": {
    "colab": {
     "base_uri": "https://localhost:8080/"
    },
    "id": "75fk7lDWPZNk",
    "outputId": "139cfcdd-eb49-4449-c08d-94724173ea97"
   },
   "outputs": [],
   "source": [
    "# Преобразуем исходную матрицу \"товар - покупатель\" в массив numpy\n",
    "m = item_customer_matrix.values\n",
    "m"
   ]
  },
  {
   "cell_type": "code",
   "execution_count": null,
   "metadata": {
    "colab": {
     "base_uri": "https://localhost:8080/"
    },
    "id": "PksWnmOAPhIM",
    "outputId": "fae8a3d9-910f-4342-a20e-25ef7d3dd3b4"
   },
   "outputs": [],
   "source": [
    "# Вычисляем косинусную меру сходства между векторами-строками товаров\n",
    "item_item_sim_matrix = cos_sim(m)\n",
    "item_item_sim_matrix"
   ]
  },
  {
   "cell_type": "code",
   "execution_count": null,
   "metadata": {
    "colab": {
     "base_uri": "https://localhost:8080/",
     "height": 304
    },
    "id": "6wdjr2BjPhFv",
    "outputId": "7eb23c96-63d5-4e5c-a9cb-09f81caf96d5"
   },
   "outputs": [],
   "source": [
    "# Добавляем название столбцов и индексов в матрицу мер близости между векторами-строками покупателей\n",
    "item_item_sim_matrix = pd.DataFrame(item_item_sim_matrix)\n",
    "\n",
    "item_item_sim_matrix.columns = item_customer_matrix.index\n",
    "\n",
    "item_item_sim_matrix['StockCode'] = item_customer_matrix.index\n",
    "item_item_sim_matrix = item_item_sim_matrix.set_index('StockCode')\n",
    "\n",
    "item_item_sim_matrix.head()"
   ]
  },
  {
   "cell_type": "code",
   "execution_count": null,
   "metadata": {
    "colab": {
     "base_uri": "https://localhost:8080/"
    },
    "id": "UYYsQJ9JP5T_",
    "outputId": "1cf76368-24ca-4469-ca40-5f26d04be7b6"
   },
   "outputs": [],
   "source": [
    "# На примере товара находим те товары, которые близки к нему по косинусной мере\n",
    "top_10_similar_items = item_item_sim_matrix.loc[23166].sort_values(ascending=False).iloc[1:11].index\n",
    "top_10_similar_items"
   ]
  },
  {
   "cell_type": "code",
   "execution_count": null,
   "metadata": {
    "colab": {
     "base_uri": "https://localhost:8080/",
     "height": 81
    },
    "id": "bxGZH6snQrJ9",
    "outputId": "9adf60eb-f712-4c98-c417-13d92d711b49"
   },
   "outputs": [],
   "source": [
    "df[df['StockCode'] == 23166].drop_duplicates('StockCode')[['StockCode', 'Description']]"
   ]
  },
  {
   "cell_type": "code",
   "execution_count": null,
   "metadata": {
    "colab": {
     "base_uri": "https://localhost:8080/",
     "height": 426
    },
    "id": "lNZWtKs2QRHQ",
    "outputId": "27609d5a-6887-4502-ec77-eeb2658c12e0"
   },
   "outputs": [],
   "source": [
    "df[df['StockCode'].isin(top_10_similar_items)][['StockCode', 'Description']].drop_duplicates().set_index('StockCode').loc[top_10_similar_items]"
   ]
  }
 ],
 "metadata": {
  "colab": {
   "collapsed_sections": [
    "m4TqkYoMARE-",
    "1zgR2E7tAumY",
    "PPsF4pUOHCpD",
    "b6Grs9_Gd6KL"
   ],
   "provenance": [],
   "toc_visible": true
  },
  "kernelspec": {
   "display_name": "Python 3",
   "language": "python",
   "name": "python3"
  },
  "language_info": {
   "codemirror_mode": {
    "name": "ipython",
    "version": 3
   },
   "file_extension": ".py",
   "mimetype": "text/x-python",
   "name": "python",
   "nbconvert_exporter": "python",
   "pygments_lexer": "ipython3",
   "version": "3.12.7"
  },
  "orig_nbformat": 4
 },
 "nbformat": 4,
 "nbformat_minor": 0
}
